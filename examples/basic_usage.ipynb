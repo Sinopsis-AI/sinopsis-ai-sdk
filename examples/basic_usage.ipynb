{
 "cells": [
  {
   "cell_type": "code",
   "execution_count": 143,
   "metadata": {},
   "outputs": [
    {
     "data": {
      "text/plain": [
       "True"
      ]
     },
     "execution_count": 143,
     "metadata": {},
     "output_type": "execute_result"
    }
   ],
   "source": [
    "# Import \n",
    "from sinopsis_ai import SinopsisAI\n",
    "\n",
    "# Set your API key\n",
    "api_key = \"\"\n",
    "\n",
    "# Create a new instance of the SinopsisAI class\n",
    "sinopsis = SinopsisAI(api_key=api_key)\n",
    "\n",
    "# Start a new session\n",
    "session = sinopsis.start_session(user=\"Alex\")\n",
    "\n",
    "# Log a user prompt\n",
    "sinopsis.log_prompt(\"Hello, how are you?\")\n",
    "\n",
    "# Log a response from the assistant\n",
    "sinopsis.log_response(\"I'm good, thanks!\", \"ChatbotName\", \"ModelName\", {\"input\": \"Hello, how are you?\"})\n",
    "\n",
    "# End the session\n",
    "sinopsis.end_session()"
   ]
  }
 ],
 "metadata": {
  "kernelspec": {
   "display_name": "Python 3",
   "language": "python",
   "name": "python3"
  },
  "language_info": {
   "codemirror_mode": {
    "name": "ipython",
    "version": 3
   },
   "file_extension": ".py",
   "mimetype": "text/x-python",
   "name": "python",
   "nbconvert_exporter": "python",
   "pygments_lexer": "ipython3",
   "version": "3.9.13"
  }
 },
 "nbformat": 4,
 "nbformat_minor": 2
}
